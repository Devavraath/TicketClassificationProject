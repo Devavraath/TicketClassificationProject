{
 "cells": [
  {
   "cell_type": "code",
   "execution_count": 1,
   "id": "55f509d3-7fcd-4614-af25-c93dd51d6ac4",
   "metadata": {},
   "outputs": [],
   "source": [
    "# Import necessary libraries\n",
    "import pandas as pd\n",
    "import os\n",
    "from sklearn.model_selection import train_test_split\n",
    "from sklearn.feature_extraction.text import TfidfVectorizer\n",
    "from sklearn.naive_bayes import MultinomialNB\n",
    "from sklearn.metrics import accuracy_score, classification_report"
   ]
  },
  {
   "cell_type": "code",
   "execution_count": 2,
   "id": "902f9e88-b185-4c4e-866a-bd623e9678d8",
   "metadata": {},
   "outputs": [
    {
     "data": {
      "text/html": [
       "<div>\n",
       "<style scoped>\n",
       "    .dataframe tbody tr th:only-of-type {\n",
       "        vertical-align: middle;\n",
       "    }\n",
       "\n",
       "    .dataframe tbody tr th {\n",
       "        vertical-align: top;\n",
       "    }\n",
       "\n",
       "    .dataframe thead th {\n",
       "        text-align: right;\n",
       "    }\n",
       "</style>\n",
       "<table border=\"1\" class=\"dataframe\">\n",
       "  <thead>\n",
       "    <tr style=\"text-align: right;\">\n",
       "      <th></th>\n",
       "      <th>S.No</th>\n",
       "      <th>Ticket Title</th>\n",
       "      <th>Description</th>\n",
       "      <th>Application Name</th>\n",
       "    </tr>\n",
       "  </thead>\n",
       "  <tbody>\n",
       "    <tr>\n",
       "      <th>0</th>\n",
       "      <td>1</td>\n",
       "      <td>Software Bug Fix</td>\n",
       "      <td>Investigate and fix software bugs</td>\n",
       "      <td>Software</td>\n",
       "    </tr>\n",
       "    <tr>\n",
       "      <th>1</th>\n",
       "      <td>2</td>\n",
       "      <td>Email Migration</td>\n",
       "      <td>Migrate email accounts to a new platform</td>\n",
       "      <td>Email</td>\n",
       "    </tr>\n",
       "    <tr>\n",
       "      <th>2</th>\n",
       "      <td>3</td>\n",
       "      <td>Hardware Upgrade</td>\n",
       "      <td>Upgrade hardware components</td>\n",
       "      <td>Hardware</td>\n",
       "    </tr>\n",
       "    <tr>\n",
       "      <th>3</th>\n",
       "      <td>4</td>\n",
       "      <td>Security Incident</td>\n",
       "      <td>Respond to and investigate security incidents</td>\n",
       "      <td>Security</td>\n",
       "    </tr>\n",
       "    <tr>\n",
       "      <th>4</th>\n",
       "      <td>5</td>\n",
       "      <td>Financial Planning</td>\n",
       "      <td>Assist with financial planning and analysis</td>\n",
       "      <td>Accounting</td>\n",
       "    </tr>\n",
       "  </tbody>\n",
       "</table>\n",
       "</div>"
      ],
      "text/plain": [
       "   S.No        Ticket Title                                    Description  \\\n",
       "0     1    Software Bug Fix              Investigate and fix software bugs   \n",
       "1     2     Email Migration       Migrate email accounts to a new platform   \n",
       "2     3    Hardware Upgrade                    Upgrade hardware components   \n",
       "3     4   Security Incident  Respond to and investigate security incidents   \n",
       "4     5  Financial Planning    Assist with financial planning and analysis   \n",
       "\n",
       "  Application Name  \n",
       "0         Software  \n",
       "1            Email  \n",
       "2         Hardware  \n",
       "3         Security  \n",
       "4       Accounting  "
      ]
     },
     "execution_count": 2,
     "metadata": {},
     "output_type": "execute_result"
    }
   ],
   "source": [
    "# Load the dataset from CSV\n",
    "data = pd.read_csv('Tickets Dataset.csv')\n",
    "data.head()"
   ]
  },
  {
   "cell_type": "code",
   "execution_count": 3,
   "id": "0696f814-ec37-4131-932e-6ad6d3281b62",
   "metadata": {},
   "outputs": [],
   "source": [
    "# Split the dataset into training and testing sets\n",
    "X = data['Ticket Title'] + ' ' + data['Description']  # Combine 'Title' and 'Description' for text input\n",
    "y = data['Application Name']\n",
    "X_train, X_test, y_train, y_test = train_test_split(X, y, test_size=0.2, random_state=42)"
   ]
  },
  {
   "cell_type": "code",
   "execution_count": 4,
   "id": "ea6c1156-9615-4ae9-8026-466b424354a0",
   "metadata": {},
   "outputs": [],
   "source": [
    "# Feature extraction using TF-IDF vectorization\n",
    "tfidf_vectorizer = TfidfVectorizer(max_features=5000)  # You can adjust the number of features\n",
    "X_train_tfidf = tfidf_vectorizer.fit_transform(X_train)\n",
    "X_test_tfidf = tfidf_vectorizer.transform(X_test)"
   ]
  },
  {
   "cell_type": "code",
   "execution_count": 5,
   "id": "f777db7c-0b3a-4092-b4b8-06e33d8b785e",
   "metadata": {},
   "outputs": [
    {
     "name": "stdout",
     "output_type": "stream",
     "text": [
      "Accuracy: 0.9\n",
      "Classification Report:\n",
      "               precision    recall  f1-score   support\n",
      "\n",
      "  Accounting       1.00      1.00      1.00         2\n",
      "         CRM       0.00      0.00      0.00         2\n",
      "        Data       1.00      1.00      1.00         2\n",
      "          HR       1.00      1.00      1.00         1\n",
      "    Hardware       1.00      1.00      1.00         3\n",
      "     Network       0.71      1.00      0.83         5\n",
      "      Server       1.00      1.00      1.00         4\n",
      "    Software       1.00      1.00      1.00         1\n",
      "\n",
      "    accuracy                           0.90        20\n",
      "   macro avg       0.84      0.88      0.85        20\n",
      "weighted avg       0.83      0.90      0.86        20\n",
      "\n"
     ]
    },
    {
     "name": "stderr",
     "output_type": "stream",
     "text": [
      "C:\\Users\\Hp\\AppData\\Roaming\\Python\\Python311\\site-packages\\sklearn\\metrics\\_classification.py:1469: UndefinedMetricWarning: Precision and F-score are ill-defined and being set to 0.0 in labels with no predicted samples. Use `zero_division` parameter to control this behavior.\n",
      "  _warn_prf(average, modifier, msg_start, len(result))\n",
      "C:\\Users\\Hp\\AppData\\Roaming\\Python\\Python311\\site-packages\\sklearn\\metrics\\_classification.py:1469: UndefinedMetricWarning: Precision and F-score are ill-defined and being set to 0.0 in labels with no predicted samples. Use `zero_division` parameter to control this behavior.\n",
      "  _warn_prf(average, modifier, msg_start, len(result))\n",
      "C:\\Users\\Hp\\AppData\\Roaming\\Python\\Python311\\site-packages\\sklearn\\metrics\\_classification.py:1469: UndefinedMetricWarning: Precision and F-score are ill-defined and being set to 0.0 in labels with no predicted samples. Use `zero_division` parameter to control this behavior.\n",
      "  _warn_prf(average, modifier, msg_start, len(result))\n"
     ]
    }
   ],
   "source": [
    "# Train a Multinomial Naive Bayes classifier\n",
    "classifier = MultinomialNB()\n",
    "classifier.fit(X_train_tfidf, y_train)\n",
    "\n",
    "# Make predictions on the test set\n",
    "y_pred = classifier.predict(X_test_tfidf)\n",
    "\n",
    "# Evaluate the model\n",
    "accuracy = accuracy_score(y_test, y_pred)\n",
    "report = classification_report(y_test, y_pred)\n",
    "\n",
    "print(\"Accuracy:\", accuracy)\n",
    "print(\"Classification Report:\\n\", report)"
   ]
  },
  {
   "cell_type": "code",
   "execution_count": 6,
   "id": "0f21004a-2e80-4d23-a3db-8c3cf2ba9965",
   "metadata": {},
   "outputs": [
    {
     "data": {
      "text/plain": [
       "['your_model.pkl']"
      ]
     },
     "execution_count": 6,
     "metadata": {},
     "output_type": "execute_result"
    }
   ],
   "source": [
    "import joblib\n",
    "\n",
    "# Replace 'your_model' with your actual model\n",
    "your_model = classifier\n",
    "\n",
    "# Save the model to a .pkl file\n",
    "joblib.dump(classifier, 'your_model.pkl')\n"
   ]
  },
  {
   "cell_type": "code",
   "execution_count": 7,
   "id": "74c414ab-7d1e-436f-bdfe-49c2ef982a4b",
   "metadata": {},
   "outputs": [
    {
     "data": {
      "text/plain": [
       "['vectorizer.pkl']"
      ]
     },
     "execution_count": 7,
     "metadata": {},
     "output_type": "execute_result"
    }
   ],
   "source": [
    "joblib.dump(tfidf_vectorizer,'vectorizer.pkl')"
   ]
  },
  {
   "cell_type": "code",
   "execution_count": 8,
   "id": "a584d6ee-b60c-4768-9aad-88df83bb74c9",
   "metadata": {},
   "outputs": [
    {
     "data": {
      "text/plain": [
       "('email', 'software')"
      ]
     },
     "execution_count": 8,
     "metadata": {},
     "output_type": "execute_result"
    }
   ],
   "source": [
    "'email', 'software'"
   ]
  },
  {
   "cell_type": "code",
   "execution_count": 10,
   "id": "d4a67836-b64b-4da3-b897-7ec73da5c863",
   "metadata": {},
   "outputs": [
    {
     "name": "stdout",
     "output_type": "stream",
     "text": [
      "Predicted Class Label: Accounting\n"
     ]
    }
   ],
   "source": [
    "# Transform the new statement using TF-IDF vectorization\n",
    "new_statement_tfidf = tfidf_vectorizer.transform(['I need assistance with accounting reports and queries'])\n",
    "\n",
    "# Predict the class label for the new statement\n",
    "predicted_class = classifier.predict(new_statement_tfidf)\n",
    "\n",
    "# Print the predicted class label\n",
    "print(\"Predicted Class Label:\", predicted_class[0])"
   ]
  }
 ],
 "metadata": {
  "kernelspec": {
   "display_name": "Python 3 (ipykernel)",
   "language": "python",
   "name": "python3"
  },
  "language_info": {
   "codemirror_mode": {
    "name": "ipython",
    "version": 3
   },
   "file_extension": ".py",
   "mimetype": "text/x-python",
   "name": "python",
   "nbconvert_exporter": "python",
   "pygments_lexer": "ipython3",
   "version": "3.11.5"
  }
 },
 "nbformat": 4,
 "nbformat_minor": 5
}
