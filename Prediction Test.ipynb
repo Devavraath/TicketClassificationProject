{
 "cells": [
  {
   "cell_type": "code",
   "execution_count": 4,
   "id": "85dc10ef-723f-4110-a51e-a065b5e18595",
   "metadata": {},
   "outputs": [
    {
     "name": "stdout",
     "output_type": "stream",
     "text": [
      "Network\n"
     ]
    }
   ],
   "source": [
    "import joblib\n",
    "\n",
    "# Load the trained machine learning model\n",
    "model = joblib.load('your_model.pkl')\n",
    "\n",
    "# Load the fitted TfidfVectorizer\n",
    "vectorizer = joblib.load('vectorizer.pkl')  # Replace with the actual file path\n",
    "\n",
    "# Transform the input text\n",
    "input_text = ['My Application has issues']  # Replace with your input text\n",
    "statement = vectorizer.transform(input_text)\n",
    "\n",
    "# Make a prediction using the model\n",
    "prediction = model.predict(statement)\n",
    "print(prediction[0])\n"
   ]
  },
  {
   "cell_type": "code",
   "execution_count": 8,
   "id": "2cdb8fd8-b1c6-4404-87fe-e38fabc4801a",
   "metadata": {},
   "outputs": [
    {
     "name": "stdout",
     "output_type": "stream",
     "text": [
      "Software\n"
     ]
    }
   ],
   "source": [
    "input_text = ['tax updates']  # Replace with your input text\n",
    "statement = vectorizer.transform(input_text)\n",
    "\n",
    "# Make a prediction using the model\n",
    "prediction = model.predict(statement)\n",
    "print(prediction[0])\n"
   ]
  }
 ],
 "metadata": {
  "kernelspec": {
   "display_name": "Python 3 (ipykernel)",
   "language": "python",
   "name": "python3"
  },
  "language_info": {
   "codemirror_mode": {
    "name": "ipython",
    "version": 3
   },
   "file_extension": ".py",
   "mimetype": "text/x-python",
   "name": "python",
   "nbconvert_exporter": "python",
   "pygments_lexer": "ipython3",
   "version": "3.11.5"
  }
 },
 "nbformat": 4,
 "nbformat_minor": 5
}
